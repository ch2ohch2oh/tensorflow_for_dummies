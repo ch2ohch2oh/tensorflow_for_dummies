{
 "cells": [
  {
   "cell_type": "code",
   "execution_count": 4,
   "metadata": {},
   "outputs": [],
   "source": [
    "import tensorflow as tf"
   ]
  },
  {
   "cell_type": "code",
   "execution_count": 5,
   "metadata": {},
   "outputs": [
    {
     "name": "stdout",
     "output_type": "stream",
     "text": [
      "[<tf.Operation 'a' type=Const>, <tf.Operation 'b' type=Const>, <tf.Operation 'add' type=Add>, <tf.Operation 'a_1' type=Const>, <tf.Operation 'b_1' type=Const>, <tf.Operation 'add_1' type=Add>]\n"
     ]
    }
   ],
   "source": [
    "a = tf.constant(2.3, name = 'a')\n",
    "b = tf.constant(4.2, name = 'b')\n",
    "sum = a + b # A computation grpah is created\n",
    "print(tf.get_default_graph().get_operations())\n"
   ]
  },
  {
   "cell_type": "markdown",
   "metadata": {},
   "source": [
    "# Optimizers\n",
    "\n",
    "- `GradientDescentOptimizer`\n",
    "- `MomentumOptimizer`\n",
    "$$ v_t = \\alpha v_{t-1} - \\eta \\nabla J(\\theta) $$\n",
    "- `AdagradOptimizer` (2011 John Duchi et al)\n",
    "- `AdamOptimizer`\n"
   ]
  },
  {
   "cell_type": "code",
   "execution_count": null,
   "metadata": {},
   "outputs": [],
   "source": []
  }
 ],
 "metadata": {
  "kernelspec": {
   "display_name": "Python 3",
   "language": "python",
   "name": "python3"
  },
  "language_info": {
   "codemirror_mode": {
    "name": "ipython",
    "version": 3
   },
   "file_extension": ".py",
   "mimetype": "text/x-python",
   "name": "python",
   "nbconvert_exporter": "python",
   "pygments_lexer": "ipython3",
   "version": "3.6.3"
  }
 },
 "nbformat": 4,
 "nbformat_minor": 2
}

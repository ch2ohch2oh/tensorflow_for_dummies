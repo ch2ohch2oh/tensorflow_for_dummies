{
 "cells": [
  {
   "cell_type": "markdown",
   "metadata": {},
   "source": [
    "# Tensor operations"
   ]
  },
  {
   "cell_type": "markdown",
   "metadata": {},
   "source": [
    "The central datatype in tensorflow is ```Tensor```."
   ]
  },
  {
   "cell_type": "code",
   "execution_count": 2,
   "metadata": {},
   "outputs": [],
   "source": [
    "import tensorflow as tf"
   ]
  },
  {
   "cell_type": "code",
   "execution_count": 12,
   "metadata": {},
   "outputs": [
    {
     "name": "stdout",
     "output_type": "stream",
     "text": [
      "total = 3.690000\n",
      "ratio = 0.500000\n",
      "rand_a = array([ 0.94340396,  0.32585257, -0.787315  ], dtype=float32)\n",
      "rand_n = array([3.4773808, 2.6860118, 1.6899486], dtype=float32)\n",
      "prod = array([10.281507 ,  2.8837662, -2.0919445], dtype=float32)\n",
      "dot = 6.8630085\n"
     ]
    }
   ],
   "source": [
    "const_a = tf.constant(1.23)\n",
    "const_b = tf.constant(2.46)\n",
    "total = const_a + const_b\n",
    "ratio = const_a / const_b\n",
    "\n",
    "# Random numbers\n",
    "rand_a = tf.random_normal([3], mean = 1)\n",
    "rand_b = tf.random_uniform([3], 1., 5.)\n",
    "prod = tf.multiply(rand_a, rand_b)\n",
    "dot = tf.tensordot(rand_a, rand_b, 1)\n",
    "\n",
    "with tf.Session() as sess:\n",
    "    print(\"total = %f\" % sess.run(total))\n",
    "    print(\"ratio = %f\" % sess.run(ratio))\n",
    "    print(\"rand_a = %r\" % sess.run(rand_a))\n",
    "    print(\"rand_n = %r\" % sess.run(rand_b))\n",
    "    print(\"prod = %r\" % sess.run(prod))\n",
    "    print(\"dot = %r\" % sess.run(dot))"
   ]
  },
  {
   "cell_type": "code",
   "execution_count": 13,
   "metadata": {},
   "outputs": [
    {
     "data": {
      "text/plain": [
       "\u001b[0;31mSignature:\u001b[0m\n",
       "\u001b[0mtf\u001b[0m\u001b[0;34m.\u001b[0m\u001b[0mrandom_normal\u001b[0m\u001b[0;34m(\u001b[0m\u001b[0;34m\u001b[0m\n",
       "\u001b[0;34m\u001b[0m    \u001b[0mshape\u001b[0m\u001b[0;34m,\u001b[0m\u001b[0;34m\u001b[0m\n",
       "\u001b[0;34m\u001b[0m    \u001b[0mmean\u001b[0m\u001b[0;34m=\u001b[0m\u001b[0;36m0.0\u001b[0m\u001b[0;34m,\u001b[0m\u001b[0;34m\u001b[0m\n",
       "\u001b[0;34m\u001b[0m    \u001b[0mstddev\u001b[0m\u001b[0;34m=\u001b[0m\u001b[0;36m1.0\u001b[0m\u001b[0;34m,\u001b[0m\u001b[0;34m\u001b[0m\n",
       "\u001b[0;34m\u001b[0m    \u001b[0mdtype\u001b[0m\u001b[0;34m=\u001b[0m\u001b[0mtf\u001b[0m\u001b[0;34m.\u001b[0m\u001b[0mfloat32\u001b[0m\u001b[0;34m,\u001b[0m\u001b[0;34m\u001b[0m\n",
       "\u001b[0;34m\u001b[0m    \u001b[0mseed\u001b[0m\u001b[0;34m=\u001b[0m\u001b[0;32mNone\u001b[0m\u001b[0;34m,\u001b[0m\u001b[0;34m\u001b[0m\n",
       "\u001b[0;34m\u001b[0m    \u001b[0mname\u001b[0m\u001b[0;34m=\u001b[0m\u001b[0;32mNone\u001b[0m\u001b[0;34m,\u001b[0m\u001b[0;34m\u001b[0m\n",
       "\u001b[0;34m\u001b[0m\u001b[0;34m)\u001b[0m\u001b[0;34m\u001b[0m\u001b[0;34m\u001b[0m\u001b[0m\n",
       "\u001b[0;31mDocstring:\u001b[0m\n",
       "Outputs random values from a normal distribution.\n",
       "\n",
       "Args:\n",
       "  shape: A 1-D integer Tensor or Python array. The shape of the output tensor.\n",
       "  mean: A 0-D Tensor or Python value of type `dtype`. The mean of the normal\n",
       "    distribution.\n",
       "  stddev: A 0-D Tensor or Python value of type `dtype`. The standard deviation\n",
       "    of the normal distribution.\n",
       "  dtype: The type of the output.\n",
       "  seed: A Python integer. Used to create a random seed for the distribution.\n",
       "    See\n",
       "    `tf.compat.v1.set_random_seed`\n",
       "    for behavior.\n",
       "  name: A name for the operation (optional).\n",
       "\n",
       "Returns:\n",
       "  A tensor of the specified shape filled with random normal values.\n",
       "\u001b[0;31mFile:\u001b[0m      ~/.local/lib/python3.6/site-packages/tensorflow/python/ops/random_ops.py\n",
       "\u001b[0;31mType:\u001b[0m      function\n"
      ]
     },
     "metadata": {},
     "output_type": "display_data"
    }
   ],
   "source": [
    "?tf.random_normal"
   ]
  },
  {
   "cell_type": "code",
   "execution_count": null,
   "metadata": {},
   "outputs": [],
   "source": []
  }
 ],
 "metadata": {
  "kernelspec": {
   "display_name": "Python 3",
   "language": "python",
   "name": "python3"
  },
  "language_info": {
   "codemirror_mode": {
    "name": "ipython",
    "version": 3
   },
   "file_extension": ".py",
   "mimetype": "text/x-python",
   "name": "python",
   "nbconvert_exporter": "python",
   "pygments_lexer": "ipython3",
   "version": "3.6.8"
  }
 },
 "nbformat": 4,
 "nbformat_minor": 4
}
